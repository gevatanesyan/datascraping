{
 "cells": [
  {
   "cell_type": "code",
   "execution_count": 1,
   "metadata": {},
   "outputs": [],
   "source": [
    "import time\n",
    "import requests\n",
    "import numpy as np\n",
    "import pandas as pd\n",
    "from scrapy.http import TextResponse\n",
    "import re"
   ]
  },
  {
   "cell_type": "markdown",
   "metadata": {},
   "source": [
    "# Problem 1"
   ]
  },
  {
   "cell_type": "code",
   "execution_count": 2,
   "metadata": {},
   "outputs": [],
   "source": [
    "def scraping_books(url,base_url=\"http://books.toscrape.com/\"):\n",
    "    page = requests.get(url)\n",
    "    response = TextResponse(body=page.text,url=url,encoding=\"utf-8\")\n",
    "    title = response.css(\"h3 > a::attr(title)\").extract()\n",
    "    price1 = response.css(\"p.price_color::text\").extract()\n",
    "    price = [float(i.replace(\"Â£\", \"\")) for i in price1]\n",
    "    burl = response.css(\"h3 >a::attr(href)\").extract()\n",
    "    purl = response.css(\"img::attr(src)\").extract()\n",
    "    star = response.css(\"p[class^='star-rating']::attr(class)\").extract()\n",
    "    star_rating = []\n",
    "    for i in star:\n",
    "        star_rating.append(i.replace(\"star-rating\", \"\"))\n",
    "    stock  =response.css(\"p.price_color ~ p[class^='instock']::attr(class)\").extract()\n",
    "    instock = [i.replace(\"availability\", \" \") for i in stock]    \n",
    "    base_url = \"http://books.toscrape.com/catalogue/\"\n",
    "    bookurl = [base_url + i for i in burl]\n",
    "    picurl = [base_url + i for i in purl]\n",
    "    genere = []\n",
    "    bookinfo = []\n",
    "    for i in bookurl:\n",
    "        page = requests.get(i)\n",
    "        response = TextResponse(body=page.text,url=i,encoding=\"utf-8\")\n",
    "        genere.append(response.css(\"li~li~li > a::text\")[0].extract())\n",
    "        bookinfo.append(response.css(\"article[class='product_page'] > p::text\").extract_first())\n",
    "    \n",
    "    return pd.DataFrame({\"title\":title,  \"price\":price, \"bookurl\":bookurl, \"picurl\":picurl,\"star_rating\":star_rating,\"instock\":instock,'genere':genere,\"bookinfo\":bookinfo})"
   ]
  },
  {
   "cell_type": "code",
   "execution_count": 3,
   "metadata": {},
   "outputs": [],
   "source": [
    "books = []\n",
    "for i in range(1,100):\n",
    "    cureent_page =scraping_books(url = f\"http://books.toscrape.com/catalogue/page-{i}.html\")\n",
    "    if cureent_page.shape[0] == 0:\n",
    "        break\n",
    "    else:\n",
    "        books.append(cureent_page)"
   ]
  },
  {
   "cell_type": "code",
   "execution_count": 4,
   "metadata": {},
   "outputs": [
    {
     "data": {
      "text/html": [
       "<div>\n",
       "<style scoped>\n",
       "    .dataframe tbody tr th:only-of-type {\n",
       "        vertical-align: middle;\n",
       "    }\n",
       "\n",
       "    .dataframe tbody tr th {\n",
       "        vertical-align: top;\n",
       "    }\n",
       "\n",
       "    .dataframe thead th {\n",
       "        text-align: right;\n",
       "    }\n",
       "</style>\n",
       "<table border=\"1\" class=\"dataframe\">\n",
       "  <thead>\n",
       "    <tr style=\"text-align: right;\">\n",
       "      <th></th>\n",
       "      <th>title</th>\n",
       "      <th>price</th>\n",
       "      <th>bookurl</th>\n",
       "      <th>picurl</th>\n",
       "      <th>star_rating</th>\n",
       "      <th>instock</th>\n",
       "      <th>genere</th>\n",
       "      <th>bookinfo</th>\n",
       "    </tr>\n",
       "  </thead>\n",
       "  <tbody>\n",
       "    <tr>\n",
       "      <th>0</th>\n",
       "      <td>A Light in the Attic</td>\n",
       "      <td>51.77</td>\n",
       "      <td>http://books.toscrape.com/catalogue/a-light-in...</td>\n",
       "      <td>http://books.toscrape.com/catalogue/../media/c...</td>\n",
       "      <td>Three</td>\n",
       "      <td>instock</td>\n",
       "      <td>Poetry</td>\n",
       "      <td>It's hard to imagine a world without A Light i...</td>\n",
       "    </tr>\n",
       "    <tr>\n",
       "      <th>1</th>\n",
       "      <td>Tipping the Velvet</td>\n",
       "      <td>53.74</td>\n",
       "      <td>http://books.toscrape.com/catalogue/tipping-th...</td>\n",
       "      <td>http://books.toscrape.com/catalogue/../media/c...</td>\n",
       "      <td>One</td>\n",
       "      <td>instock</td>\n",
       "      <td>Historical Fiction</td>\n",
       "      <td>\"Erotic and absorbing...Written with starling ...</td>\n",
       "    </tr>\n",
       "    <tr>\n",
       "      <th>2</th>\n",
       "      <td>Soumission</td>\n",
       "      <td>50.10</td>\n",
       "      <td>http://books.toscrape.com/catalogue/soumission...</td>\n",
       "      <td>http://books.toscrape.com/catalogue/../media/c...</td>\n",
       "      <td>One</td>\n",
       "      <td>instock</td>\n",
       "      <td>Fiction</td>\n",
       "      <td>Dans une France assez proche de la nÃ´tre, un ...</td>\n",
       "    </tr>\n",
       "    <tr>\n",
       "      <th>3</th>\n",
       "      <td>Sharp Objects</td>\n",
       "      <td>47.82</td>\n",
       "      <td>http://books.toscrape.com/catalogue/sharp-obje...</td>\n",
       "      <td>http://books.toscrape.com/catalogue/../media/c...</td>\n",
       "      <td>Four</td>\n",
       "      <td>instock</td>\n",
       "      <td>Mystery</td>\n",
       "      <td>WICKED above her hipbone, GIRL across her hear...</td>\n",
       "    </tr>\n",
       "    <tr>\n",
       "      <th>4</th>\n",
       "      <td>Sapiens: A Brief History of Humankind</td>\n",
       "      <td>54.23</td>\n",
       "      <td>http://books.toscrape.com/catalogue/sapiens-a-...</td>\n",
       "      <td>http://books.toscrape.com/catalogue/../media/c...</td>\n",
       "      <td>Five</td>\n",
       "      <td>instock</td>\n",
       "      <td>History</td>\n",
       "      <td>From a renowned historian comes a groundbreaki...</td>\n",
       "    </tr>\n",
       "    <tr>\n",
       "      <th>...</th>\n",
       "      <td>...</td>\n",
       "      <td>...</td>\n",
       "      <td>...</td>\n",
       "      <td>...</td>\n",
       "      <td>...</td>\n",
       "      <td>...</td>\n",
       "      <td>...</td>\n",
       "      <td>...</td>\n",
       "    </tr>\n",
       "    <tr>\n",
       "      <th>15</th>\n",
       "      <td>Alice in Wonderland (Alice's Adventures in Won...</td>\n",
       "      <td>55.53</td>\n",
       "      <td>http://books.toscrape.com/catalogue/alice-in-w...</td>\n",
       "      <td>http://books.toscrape.com/catalogue/../media/c...</td>\n",
       "      <td>One</td>\n",
       "      <td>instock</td>\n",
       "      <td>Classics</td>\n",
       "      <td>None</td>\n",
       "    </tr>\n",
       "    <tr>\n",
       "      <th>16</th>\n",
       "      <td>Ajin: Demi-Human, Volume 1 (Ajin: Demi-Human #1)</td>\n",
       "      <td>57.06</td>\n",
       "      <td>http://books.toscrape.com/catalogue/ajin-demi-...</td>\n",
       "      <td>http://books.toscrape.com/catalogue/../media/c...</td>\n",
       "      <td>Four</td>\n",
       "      <td>instock</td>\n",
       "      <td>Sequential Art</td>\n",
       "      <td>High school student Kei Nagai is struck dead i...</td>\n",
       "    </tr>\n",
       "    <tr>\n",
       "      <th>17</th>\n",
       "      <td>A Spy's Devotion (The Regency Spies of London #1)</td>\n",
       "      <td>16.97</td>\n",
       "      <td>http://books.toscrape.com/catalogue/a-spys-dev...</td>\n",
       "      <td>http://books.toscrape.com/catalogue/../media/c...</td>\n",
       "      <td>Five</td>\n",
       "      <td>instock</td>\n",
       "      <td>Historical Fiction</td>\n",
       "      <td>In Englandâs Regency era, manners and elegan...</td>\n",
       "    </tr>\n",
       "    <tr>\n",
       "      <th>18</th>\n",
       "      <td>1st to Die (Women's Murder Club #1)</td>\n",
       "      <td>53.98</td>\n",
       "      <td>http://books.toscrape.com/catalogue/1st-to-die...</td>\n",
       "      <td>http://books.toscrape.com/catalogue/../media/c...</td>\n",
       "      <td>One</td>\n",
       "      <td>instock</td>\n",
       "      <td>Mystery</td>\n",
       "      <td>James Patterson, bestselling author of the Ale...</td>\n",
       "    </tr>\n",
       "    <tr>\n",
       "      <th>19</th>\n",
       "      <td>1,000 Places to See Before You Die</td>\n",
       "      <td>26.08</td>\n",
       "      <td>http://books.toscrape.com/catalogue/1000-place...</td>\n",
       "      <td>http://books.toscrape.com/catalogue/../media/c...</td>\n",
       "      <td>Five</td>\n",
       "      <td>instock</td>\n",
       "      <td>Travel</td>\n",
       "      <td>Around the World, continent by continent, here...</td>\n",
       "    </tr>\n",
       "  </tbody>\n",
       "</table>\n",
       "<p>1000 rows × 8 columns</p>\n",
       "</div>"
      ],
      "text/plain": [
       "                                                title  price  \\\n",
       "0                                A Light in the Attic  51.77   \n",
       "1                                  Tipping the Velvet  53.74   \n",
       "2                                          Soumission  50.10   \n",
       "3                                       Sharp Objects  47.82   \n",
       "4               Sapiens: A Brief History of Humankind  54.23   \n",
       "..                                                ...    ...   \n",
       "15  Alice in Wonderland (Alice's Adventures in Won...  55.53   \n",
       "16   Ajin: Demi-Human, Volume 1 (Ajin: Demi-Human #1)  57.06   \n",
       "17  A Spy's Devotion (The Regency Spies of London #1)  16.97   \n",
       "18                1st to Die (Women's Murder Club #1)  53.98   \n",
       "19                 1,000 Places to See Before You Die  26.08   \n",
       "\n",
       "                                              bookurl  \\\n",
       "0   http://books.toscrape.com/catalogue/a-light-in...   \n",
       "1   http://books.toscrape.com/catalogue/tipping-th...   \n",
       "2   http://books.toscrape.com/catalogue/soumission...   \n",
       "3   http://books.toscrape.com/catalogue/sharp-obje...   \n",
       "4   http://books.toscrape.com/catalogue/sapiens-a-...   \n",
       "..                                                ...   \n",
       "15  http://books.toscrape.com/catalogue/alice-in-w...   \n",
       "16  http://books.toscrape.com/catalogue/ajin-demi-...   \n",
       "17  http://books.toscrape.com/catalogue/a-spys-dev...   \n",
       "18  http://books.toscrape.com/catalogue/1st-to-die...   \n",
       "19  http://books.toscrape.com/catalogue/1000-place...   \n",
       "\n",
       "                                               picurl star_rating    instock  \\\n",
       "0   http://books.toscrape.com/catalogue/../media/c...       Three  instock     \n",
       "1   http://books.toscrape.com/catalogue/../media/c...         One  instock     \n",
       "2   http://books.toscrape.com/catalogue/../media/c...         One  instock     \n",
       "3   http://books.toscrape.com/catalogue/../media/c...        Four  instock     \n",
       "4   http://books.toscrape.com/catalogue/../media/c...        Five  instock     \n",
       "..                                                ...         ...        ...   \n",
       "15  http://books.toscrape.com/catalogue/../media/c...         One  instock     \n",
       "16  http://books.toscrape.com/catalogue/../media/c...        Four  instock     \n",
       "17  http://books.toscrape.com/catalogue/../media/c...        Five  instock     \n",
       "18  http://books.toscrape.com/catalogue/../media/c...         One  instock     \n",
       "19  http://books.toscrape.com/catalogue/../media/c...        Five  instock     \n",
       "\n",
       "                genere                                           bookinfo  \n",
       "0               Poetry  It's hard to imagine a world without A Light i...  \n",
       "1   Historical Fiction  \"Erotic and absorbing...Written with starling ...  \n",
       "2              Fiction  Dans une France assez proche de la nÃ´tre, un ...  \n",
       "3              Mystery  WICKED above her hipbone, GIRL across her hear...  \n",
       "4              History  From a renowned historian comes a groundbreaki...  \n",
       "..                 ...                                                ...  \n",
       "15            Classics                                               None  \n",
       "16      Sequential Art  High school student Kei Nagai is struck dead i...  \n",
       "17  Historical Fiction  In Englandâs Regency era, manners and elegan...  \n",
       "18             Mystery  James Patterson, bestselling author of the Ale...  \n",
       "19              Travel  Around the World, continent by continent, here...  \n",
       "\n",
       "[1000 rows x 8 columns]"
      ]
     },
     "execution_count": 4,
     "metadata": {},
     "output_type": "execute_result"
    }
   ],
   "source": [
    "books = pd.concat(books)\n",
    "books"
   ]
  },
  {
   "cell_type": "code",
   "execution_count": 5,
   "metadata": {},
   "outputs": [],
   "source": [
    "books.to_csv('books.csv', index=False)"
   ]
  },
  {
   "cell_type": "code",
   "execution_count": 6,
   "metadata": {},
   "outputs": [
    {
     "data": {
      "text/plain": [
       "59.99"
      ]
     },
     "execution_count": 6,
     "metadata": {},
     "output_type": "execute_result"
    }
   ],
   "source": [
    "books['price'].max()"
   ]
  },
  {
   "cell_type": "markdown",
   "metadata": {},
   "source": [
    "#### most expensive book's price is 59.99"
   ]
  },
  {
   "cell_type": "code",
   "execution_count": 7,
   "metadata": {},
   "outputs": [
    {
     "data": {
      "text/plain": [
       "8    Romance\n",
       "Name: genere, dtype: object"
      ]
     },
     "execution_count": 7,
     "metadata": {},
     "output_type": "execute_result"
    }
   ],
   "source": [
    "books[books['price'] == books['price'].max()]['genere']"
   ]
  },
  {
   "cell_type": "markdown",
   "metadata": {},
   "source": [
    "#### most expensive book's genere is Romance"
   ]
  },
  {
   "cell_type": "code",
   "execution_count": 8,
   "metadata": {},
   "outputs": [
    {
     "data": {
      "text/plain": [
       " One      226\n",
       " Three    203\n",
       " Five     196\n",
       " Two      196\n",
       " Four     179\n",
       "Name: star_rating, dtype: int64"
      ]
     },
     "execution_count": 8,
     "metadata": {},
     "output_type": "execute_result"
    }
   ],
   "source": [
    "books['star_rating'].value_counts()"
   ]
  },
  {
   "cell_type": "markdown",
   "metadata": {},
   "source": [
    "#### count of books by star rating"
   ]
  },
  {
   "cell_type": "code",
   "execution_count": 9,
   "metadata": {},
   "outputs": [],
   "source": [
    "rating_map = {\n",
    "    'Two': 2,\n",
    "    'One': 1,\n",
    "    'Five': 5,\n",
    "    'Four': 4,\n",
    "    'Three': 3\n",
    "}"
   ]
  },
  {
   "cell_type": "code",
   "execution_count": 10,
   "metadata": {},
   "outputs": [],
   "source": [
    "books['star_rating'] = books['star_rating'].apply(lambda x: x.strip())"
   ]
  },
  {
   "cell_type": "code",
   "execution_count": 11,
   "metadata": {},
   "outputs": [],
   "source": [
    "books['star_rating'] =books['star_rating'].replace(rating_map)"
   ]
  },
  {
   "cell_type": "code",
   "execution_count": 12,
   "metadata": {},
   "outputs": [
    {
     "data": {
      "text/html": [
       "<div>\n",
       "<style scoped>\n",
       "    .dataframe tbody tr th:only-of-type {\n",
       "        vertical-align: middle;\n",
       "    }\n",
       "\n",
       "    .dataframe tbody tr th {\n",
       "        vertical-align: top;\n",
       "    }\n",
       "\n",
       "    .dataframe thead th {\n",
       "        text-align: right;\n",
       "    }\n",
       "</style>\n",
       "<table border=\"1\" class=\"dataframe\">\n",
       "  <thead>\n",
       "    <tr style=\"text-align: right;\">\n",
       "      <th></th>\n",
       "      <th>price</th>\n",
       "      <th>star_rating</th>\n",
       "    </tr>\n",
       "  </thead>\n",
       "  <tbody>\n",
       "    <tr>\n",
       "      <th>price</th>\n",
       "      <td>1.000000</td>\n",
       "      <td>0.028166</td>\n",
       "    </tr>\n",
       "    <tr>\n",
       "      <th>star_rating</th>\n",
       "      <td>0.028166</td>\n",
       "      <td>1.000000</td>\n",
       "    </tr>\n",
       "  </tbody>\n",
       "</table>\n",
       "</div>"
      ],
      "text/plain": [
       "                price  star_rating\n",
       "price        1.000000     0.028166\n",
       "star_rating  0.028166     1.000000"
      ]
     },
     "execution_count": 12,
     "metadata": {},
     "output_type": "execute_result"
    }
   ],
   "source": [
    "books.corr()"
   ]
  },
  {
   "cell_type": "markdown",
   "metadata": {},
   "source": [
    "#### There is no strong correlation between price and star rating"
   ]
  },
  {
   "cell_type": "code",
   "execution_count": 13,
   "metadata": {},
   "outputs": [
    {
     "data": {
      "text/plain": [
       "star_rating\n",
       "1    34.561195\n",
       "2    34.810918\n",
       "3    34.692020\n",
       "4    36.093296\n",
       "5    35.374490\n",
       "Name: price, dtype: float64"
      ]
     },
     "execution_count": 13,
     "metadata": {},
     "output_type": "execute_result"
    }
   ],
   "source": [
    "books.groupby('star_rating').mean()['price']"
   ]
  },
  {
   "cell_type": "markdown",
   "metadata": {},
   "source": [
    "#### Mean of book price by rating there is not any connection between star rating and corr"
   ]
  },
  {
   "cell_type": "markdown",
   "metadata": {},
   "source": [
    "# Problem 2"
   ]
  },
  {
   "cell_type": "code",
   "execution_count": 14,
   "metadata": {},
   "outputs": [],
   "source": [
    "def scraping_jobs(url):\n",
    "    page = requests.get(url)\n",
    "    response = TextResponse(body=page.text,url=url,encoding=\"utf-8\")\n",
    "    company_name = response.xpath(\"//p[@class='job_list_company_title']/text()\").extract()\n",
    "    job_name = response.xpath(\"//p[@class='font_bold']/text()\").extract()\n",
    "    base_url = \"https://staff.am\"\n",
    "    urls = response.xpath(\"//div[@class='web_item_card hs_job_list_item']/a/@href\").extract()\n",
    "    job_url = [base_url + i for i in urls]\n",
    "    deadline_css = response.css(\"div[class = 'job-inner job-list-deadline'] >p:not([class='job_location'])\")\n",
    "    deadlinee_ext =[i.css('::text').extract()[1] for i in deadline_css]\n",
    "    deadline = [i.replace('\\n',\" \") for i in deadlinee_ext]\n",
    "    loc_css = response.css(\"div[class = 'job-inner job-list-deadline'] >p[class='job_location']\")\n",
    "    loc_ext = [i.css(\"::text\").extract()[1] for i in loc_css]\n",
    "    location = [i.replace('\\n',\"\").strip() for i in loc_ext]\n",
    "    return pd.DataFrame({\"company_name\":company_name,\"job_name\":job_name,'job_url':job_url,\"deadline\":deadline,'location':location})\n"
   ]
  },
  {
   "cell_type": "code",
   "execution_count": 15,
   "metadata": {},
   "outputs": [],
   "source": [
    "jobs = []\n",
    "for i in range(1,100):\n",
    "    cureent_page =scraping_jobs(url = f\"https://staff.am/en/jobs?page={i}&per-page=50\")\n",
    "    if cureent_page.shape[0] == 0:\n",
    "        break\n",
    "    else:\n",
    "        jobs.append(cureent_page)"
   ]
  },
  {
   "cell_type": "code",
   "execution_count": 16,
   "metadata": {},
   "outputs": [
    {
     "data": {
      "text/html": [
       "<div>\n",
       "<style scoped>\n",
       "    .dataframe tbody tr th:only-of-type {\n",
       "        vertical-align: middle;\n",
       "    }\n",
       "\n",
       "    .dataframe tbody tr th {\n",
       "        vertical-align: top;\n",
       "    }\n",
       "\n",
       "    .dataframe thead th {\n",
       "        text-align: right;\n",
       "    }\n",
       "</style>\n",
       "<table border=\"1\" class=\"dataframe\">\n",
       "  <thead>\n",
       "    <tr style=\"text-align: right;\">\n",
       "      <th></th>\n",
       "      <th>company_name</th>\n",
       "      <th>job_name</th>\n",
       "      <th>job_url</th>\n",
       "      <th>deadline</th>\n",
       "      <th>location</th>\n",
       "    </tr>\n",
       "  </thead>\n",
       "  <tbody>\n",
       "    <tr>\n",
       "      <th>0</th>\n",
       "      <td>SFL</td>\n",
       "      <td>Digital Marketing Specialist /Storyteller</td>\n",
       "      <td>https://staff.am/en/digital-marketing-speciali...</td>\n",
       "      <td>30 July 2020</td>\n",
       "      <td>Yerevan</td>\n",
       "    </tr>\n",
       "    <tr>\n",
       "      <th>1</th>\n",
       "      <td>Chemonics International Inc.</td>\n",
       "      <td>Public Communications and Outreach Officer, Ar...</td>\n",
       "      <td>https://staff.am/en/public-communications-and-...</td>\n",
       "      <td>08 July 2020</td>\n",
       "      <td>Yerevan</td>\n",
       "    </tr>\n",
       "    <tr>\n",
       "      <th>2</th>\n",
       "      <td>MOA Communications</td>\n",
       "      <td>Senior React.js Developer</td>\n",
       "      <td>https://staff.am/en/senior-reactjs-developer-62</td>\n",
       "      <td>30 July 2020</td>\n",
       "      <td>Yerevan</td>\n",
       "    </tr>\n",
       "    <tr>\n",
       "      <th>3</th>\n",
       "      <td>Chemonics International Inc.</td>\n",
       "      <td>Senior Governance Officer, Armenia Integrity P...</td>\n",
       "      <td>https://staff.am/en/senior-governance-officer</td>\n",
       "      <td>08 July 2020</td>\n",
       "      <td>Yerevan</td>\n",
       "    </tr>\n",
       "    <tr>\n",
       "      <th>4</th>\n",
       "      <td>Chemonics International Inc.</td>\n",
       "      <td>Deputy Chief of Party, Armenia Integrity Project</td>\n",
       "      <td>https://staff.am/en/deputy-chief-of-party</td>\n",
       "      <td>08 July 2020</td>\n",
       "      <td>Yerevan</td>\n",
       "    </tr>\n",
       "    <tr>\n",
       "      <th>...</th>\n",
       "      <td>...</td>\n",
       "      <td>...</td>\n",
       "      <td>...</td>\n",
       "      <td>...</td>\n",
       "      <td>...</td>\n",
       "    </tr>\n",
       "    <tr>\n",
       "      <th>11</th>\n",
       "      <td>ServiceTitan</td>\n",
       "      <td>Senior Software Engineer, Front-End</td>\n",
       "      <td>https://staff.am/en/sr-software-engineer-front...</td>\n",
       "      <td>03 July 2020</td>\n",
       "      <td>Yerevan</td>\n",
       "    </tr>\n",
       "    <tr>\n",
       "      <th>12</th>\n",
       "      <td>ServiceTitan</td>\n",
       "      <td>Senior Site Reliability Engineer</td>\n",
       "      <td>https://staff.am/en/senior-site-reliability-en...</td>\n",
       "      <td>15 July 2020</td>\n",
       "      <td>Yerevan</td>\n",
       "    </tr>\n",
       "    <tr>\n",
       "      <th>13</th>\n",
       "      <td>ServiceTitan</td>\n",
       "      <td>Lead Software Engineer</td>\n",
       "      <td>https://staff.am/en/lead-software-engineer</td>\n",
       "      <td>05 July 2020</td>\n",
       "      <td>Yerevan</td>\n",
       "    </tr>\n",
       "    <tr>\n",
       "      <th>14</th>\n",
       "      <td>ServiceTitan</td>\n",
       "      <td>QA Automation Engineer</td>\n",
       "      <td>https://staff.am/en/qa-automation-engineer-91</td>\n",
       "      <td>05 July 2020</td>\n",
       "      <td>Yerevan</td>\n",
       "    </tr>\n",
       "    <tr>\n",
       "      <th>15</th>\n",
       "      <td>ServiceTitan</td>\n",
       "      <td>Operations Center Engineer</td>\n",
       "      <td>https://staff.am/en/operations-center-engineer</td>\n",
       "      <td>15 July 2020</td>\n",
       "      <td>Yerevan</td>\n",
       "    </tr>\n",
       "  </tbody>\n",
       "</table>\n",
       "<p>516 rows × 5 columns</p>\n",
       "</div>"
      ],
      "text/plain": [
       "                    company_name  \\\n",
       "0                            SFL   \n",
       "1   Chemonics International Inc.   \n",
       "2             MOA Communications   \n",
       "3   Chemonics International Inc.   \n",
       "4   Chemonics International Inc.   \n",
       "..                           ...   \n",
       "11                  ServiceTitan   \n",
       "12                  ServiceTitan   \n",
       "13                  ServiceTitan   \n",
       "14                  ServiceTitan   \n",
       "15                  ServiceTitan   \n",
       "\n",
       "                                             job_name  \\\n",
       "0           Digital Marketing Specialist /Storyteller   \n",
       "1   Public Communications and Outreach Officer, Ar...   \n",
       "2                           Senior React.js Developer   \n",
       "3   Senior Governance Officer, Armenia Integrity P...   \n",
       "4    Deputy Chief of Party, Armenia Integrity Project   \n",
       "..                                                ...   \n",
       "11                Senior Software Engineer, Front-End   \n",
       "12                   Senior Site Reliability Engineer   \n",
       "13                             Lead Software Engineer   \n",
       "14                             QA Automation Engineer   \n",
       "15                         Operations Center Engineer   \n",
       "\n",
       "                                              job_url        deadline location  \n",
       "0   https://staff.am/en/digital-marketing-speciali...   30 July 2020   Yerevan  \n",
       "1   https://staff.am/en/public-communications-and-...   08 July 2020   Yerevan  \n",
       "2     https://staff.am/en/senior-reactjs-developer-62   30 July 2020   Yerevan  \n",
       "3       https://staff.am/en/senior-governance-officer   08 July 2020   Yerevan  \n",
       "4           https://staff.am/en/deputy-chief-of-party   08 July 2020   Yerevan  \n",
       "..                                                ...             ...      ...  \n",
       "11  https://staff.am/en/sr-software-engineer-front...   03 July 2020   Yerevan  \n",
       "12  https://staff.am/en/senior-site-reliability-en...   15 July 2020   Yerevan  \n",
       "13         https://staff.am/en/lead-software-engineer   05 July 2020   Yerevan  \n",
       "14      https://staff.am/en/qa-automation-engineer-91   05 July 2020   Yerevan  \n",
       "15     https://staff.am/en/operations-center-engineer   15 July 2020   Yerevan  \n",
       "\n",
       "[516 rows x 5 columns]"
      ]
     },
     "execution_count": 16,
     "metadata": {},
     "output_type": "execute_result"
    }
   ],
   "source": [
    "jobs= pd.concat(jobs)\n",
    "jobs"
   ]
  },
  {
   "cell_type": "code",
   "execution_count": 17,
   "metadata": {},
   "outputs": [
    {
     "data": {
      "text/plain": [
       "Digitain                         32\n",
       "SoftConstruct                    23\n",
       "ServiceTitan                     16\n",
       "TeamViewer Armenia               12\n",
       "Willing & Able Operations LLC    11\n",
       "                                 ..\n",
       "Brainstorm Technologies           1\n",
       "Canar                             1\n",
       "Out Of Office Design              1\n",
       "Էվրի Դեյ ՓԲԸ                      1\n",
       "Triple Consulting                 1\n",
       "Name: company_name, Length: 226, dtype: int64"
      ]
     },
     "execution_count": 17,
     "metadata": {},
     "output_type": "execute_result"
    }
   ],
   "source": [
    "jobs['company_name'].value_counts()"
   ]
  },
  {
   "cell_type": "markdown",
   "metadata": {},
   "source": [
    "#### most of the job's are posted by Digitain(32 jobs),Softconstruct(23 jobs),ServiceTitan(16),Picsart(today deleted all jobs but today it had 23 jobs) etc."
   ]
  },
  {
   "cell_type": "code",
   "execution_count": 21,
   "metadata": {},
   "outputs": [
    {
     "data": {
      "text/html": [
       "<div>\n",
       "<style scoped>\n",
       "    .dataframe tbody tr th:only-of-type {\n",
       "        vertical-align: middle;\n",
       "    }\n",
       "\n",
       "    .dataframe tbody tr th {\n",
       "        vertical-align: top;\n",
       "    }\n",
       "\n",
       "    .dataframe thead th {\n",
       "        text-align: right;\n",
       "    }\n",
       "</style>\n",
       "<table border=\"1\" class=\"dataframe\">\n",
       "  <thead>\n",
       "    <tr style=\"text-align: right;\">\n",
       "      <th></th>\n",
       "      <th>company_name</th>\n",
       "      <th>job_name</th>\n",
       "      <th>job_url</th>\n",
       "      <th>deadline</th>\n",
       "      <th>location</th>\n",
       "    </tr>\n",
       "  </thead>\n",
       "  <tbody>\n",
       "    <tr>\n",
       "      <th>26</th>\n",
       "      <td>buymie</td>\n",
       "      <td>Data analyst</td>\n",
       "      <td>https://staff.am/en/data-analyst-53</td>\n",
       "      <td>24 July 2020</td>\n",
       "      <td>Yerevan</td>\n",
       "    </tr>\n",
       "    <tr>\n",
       "      <th>0</th>\n",
       "      <td>Webb Fontaine Holding LLC</td>\n",
       "      <td>Data Engineer</td>\n",
       "      <td>https://staff.am/en/data-engineer-51</td>\n",
       "      <td>22 July 2020</td>\n",
       "      <td>Yerevan</td>\n",
       "    </tr>\n",
       "    <tr>\n",
       "      <th>35</th>\n",
       "      <td>ACBA-CREDIT AGRICOLE BANK CJSC</td>\n",
       "      <td>Junior Database Administrator</td>\n",
       "      <td>https://staff.am/en/junior-database-administra...</td>\n",
       "      <td>19 July 2020</td>\n",
       "      <td>Yerevan</td>\n",
       "    </tr>\n",
       "    <tr>\n",
       "      <th>9</th>\n",
       "      <td>Ucom CJSC</td>\n",
       "      <td>Senior Database Administrator</td>\n",
       "      <td>https://staff.am/en/senior-database-administra...</td>\n",
       "      <td>11 July 2020</td>\n",
       "      <td>Yerevan</td>\n",
       "    </tr>\n",
       "    <tr>\n",
       "      <th>33</th>\n",
       "      <td>Krisp</td>\n",
       "      <td>Data Specialist / QA Engineer</td>\n",
       "      <td>https://staff.am/en/data-specialist-qa-engineer-1</td>\n",
       "      <td>03 July 2020</td>\n",
       "      <td>Yerevan</td>\n",
       "    </tr>\n",
       "    <tr>\n",
       "      <th>47</th>\n",
       "      <td>BIVAC Armenia CJSC</td>\n",
       "      <td>Database Administrator</td>\n",
       "      <td>https://staff.am/en/database-administrator-83</td>\n",
       "      <td>02 July 2020</td>\n",
       "      <td>Yerevan</td>\n",
       "    </tr>\n",
       "    <tr>\n",
       "      <th>9</th>\n",
       "      <td>DISQO</td>\n",
       "      <td>Engineering Manager, Java Microservices &amp; Data</td>\n",
       "      <td>https://staff.am/en/engineering-manager-java-m...</td>\n",
       "      <td>03 July 2020</td>\n",
       "      <td>Yerevan</td>\n",
       "    </tr>\n",
       "  </tbody>\n",
       "</table>\n",
       "</div>"
      ],
      "text/plain": [
       "                      company_name  \\\n",
       "26                          buymie   \n",
       "0        Webb Fontaine Holding LLC   \n",
       "35  ACBA-CREDIT AGRICOLE BANK CJSC   \n",
       "9                        Ucom CJSC   \n",
       "33                           Krisp   \n",
       "47              BIVAC Armenia CJSC   \n",
       "9                            DISQO   \n",
       "\n",
       "                                          job_name  \\\n",
       "26                                    Data analyst   \n",
       "0                                    Data Engineer   \n",
       "35                   Junior Database Administrator   \n",
       "9                    Senior Database Administrator   \n",
       "33                   Data Specialist / QA Engineer   \n",
       "47                          Database Administrator   \n",
       "9   Engineering Manager, Java Microservices & Data   \n",
       "\n",
       "                                              job_url        deadline location  \n",
       "26                https://staff.am/en/data-analyst-53   24 July 2020   Yerevan  \n",
       "0                https://staff.am/en/data-engineer-51   22 July 2020   Yerevan  \n",
       "35  https://staff.am/en/junior-database-administra...   19 July 2020   Yerevan  \n",
       "9   https://staff.am/en/senior-database-administra...   11 July 2020   Yerevan  \n",
       "33  https://staff.am/en/data-specialist-qa-engineer-1   03 July 2020   Yerevan  \n",
       "47      https://staff.am/en/database-administrator-83   02 July 2020   Yerevan  \n",
       "9   https://staff.am/en/engineering-manager-java-m...   03 July 2020   Yerevan  "
      ]
     },
     "execution_count": 21,
     "metadata": {},
     "output_type": "execute_result"
    }
   ],
   "source": [
    "jobs[jobs['job_name'].str.contains(\"Data\")]"
   ]
  },
  {
   "cell_type": "markdown",
   "metadata": {},
   "source": [
    "#### Job names which contain \"Data\" word"
   ]
  },
  {
   "cell_type": "code",
   "execution_count": 22,
   "metadata": {},
   "outputs": [
    {
     "data": {
      "text/plain": [
       "7"
      ]
     },
     "execution_count": 22,
     "metadata": {},
     "output_type": "execute_result"
    }
   ],
   "source": [
    "jobs[jobs['job_name'].str.contains(\"Data\")]['job_name'].count()"
   ]
  },
  {
   "cell_type": "markdown",
   "metadata": {},
   "source": [
    "#### count of job names which contain 'Data' word"
   ]
  },
  {
   "cell_type": "code",
   "execution_count": 23,
   "metadata": {},
   "outputs": [],
   "source": [
    "jobs.to_csv('jobs.csv', index=False)"
   ]
  }
 ],
 "metadata": {
  "kernelspec": {
   "display_name": "Python 3",
   "language": "python",
   "name": "python3"
  },
  "language_info": {
   "codemirror_mode": {
    "name": "ipython",
    "version": 3
   },
   "file_extension": ".py",
   "mimetype": "text/x-python",
   "name": "python",
   "nbconvert_exporter": "python",
   "pygments_lexer": "ipython3",
   "version": "3.7.6"
  }
 },
 "nbformat": 4,
 "nbformat_minor": 4
}
