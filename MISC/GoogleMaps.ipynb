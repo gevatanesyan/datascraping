{
 "cells": [
  {
   "cell_type": "code",
   "execution_count": 1,
   "metadata": {},
   "outputs": [],
   "source": [
    "import googlemaps\n",
    "from datetime import datetime\n",
    "import pandas as pd"
   ]
  },
  {
   "cell_type": "code",
   "execution_count": 2,
   "metadata": {},
   "outputs": [],
   "source": [
    "gmaps = googlemaps.Client(key='**********')"
   ]
  },
  {
   "cell_type": "code",
   "execution_count": 3,
   "metadata": {},
   "outputs": [
    {
     "data": {
      "text/plain": [
       "<googlemaps.client.Client at 0x1262fd310>"
      ]
     },
     "execution_count": 3,
     "metadata": {},
     "output_type": "execute_result"
    }
   ],
   "source": []
  },
  {
   "cell_type": "markdown",
   "metadata": {},
   "source": []
  },
  {
   "cell_type": "code",
   "execution_count": 3,
   "metadata": {},
   "outputs": [],
   "source": [
    "region_centers = ['Ashtarak', 'Artashat', 'Armavir', 'Gavar', 'Hrazdan', \n",
    "                 'Vanadzor', 'Gyumri', 'Kapan', 'Ijevan', 'Yeghegnadzor']"
   ]
  },
  {
   "cell_type": "code",
   "execution_count": 4,
   "metadata": {
    "scrolled": true
   },
   "outputs": [],
   "source": [
    "region_centers = [x + ', Armenia' for x in region_centers]"
   ]
  },
  {
   "cell_type": "code",
   "execution_count": 5,
   "metadata": {},
   "outputs": [],
   "source": [
    "res = gmaps.distance_matrix(region_centers, region_centers, mode='driving')"
   ]
  },
  {
   "cell_type": "code",
   "execution_count": 6,
   "metadata": {},
   "outputs": [],
   "source": [
    "def parse_distance_json(rows):\n",
    "    res = []\n",
    "    for r in rows:\n",
    "        to_append = []\n",
    "        for d in r['elements']:\n",
    "            to_append.append(d['distance']['value'] / 1000)\n",
    "        res.append(to_append)\n",
    "    return res"
   ]
  },
  {
   "cell_type": "code",
   "execution_count": 7,
   "metadata": {},
   "outputs": [],
   "source": [
    "rows = parse_distance_json(res['rows'])"
   ]
  },
  {
   "cell_type": "code",
   "execution_count": 8,
   "metadata": {},
   "outputs": [],
   "source": [
    "df = pd.DataFrame(rows, columns=region_centers, index=region_centers)"
   ]
  },
  {
   "cell_type": "code",
   "execution_count": 9,
   "metadata": {},
   "outputs": [
    {
     "data": {
      "text/html": [
       "<div>\n",
       "<style scoped>\n",
       "    .dataframe tbody tr th:only-of-type {\n",
       "        vertical-align: middle;\n",
       "    }\n",
       "\n",
       "    .dataframe tbody tr th {\n",
       "        vertical-align: top;\n",
       "    }\n",
       "\n",
       "    .dataframe thead th {\n",
       "        text-align: right;\n",
       "    }\n",
       "</style>\n",
       "<table border=\"1\" class=\"dataframe\">\n",
       "  <thead>\n",
       "    <tr style=\"text-align: right;\">\n",
       "      <th></th>\n",
       "      <th>Ashtarak, Armenia</th>\n",
       "      <th>Artashat, Armenia</th>\n",
       "      <th>Armavir, Armenia</th>\n",
       "      <th>Gavar, Armenia</th>\n",
       "      <th>Hrazdan, Armenia</th>\n",
       "      <th>Vanadzor, Armenia</th>\n",
       "      <th>Gyumri, Armenia</th>\n",
       "      <th>Kapan, Armenia</th>\n",
       "      <th>Ijevan, Armenia</th>\n",
       "      <th>Yeghegnadzor, Armenia</th>\n",
       "    </tr>\n",
       "  </thead>\n",
       "  <tbody>\n",
       "    <tr>\n",
       "      <th>Ashtarak, Armenia</th>\n",
       "      <td>0.000</td>\n",
       "      <td>51.874</td>\n",
       "      <td>39.551</td>\n",
       "      <td>104.028</td>\n",
       "      <td>64.161</td>\n",
       "      <td>98.558</td>\n",
       "      <td>98.376</td>\n",
       "      <td>320.266</td>\n",
       "      <td>142.717</td>\n",
       "      <td>143.463</td>\n",
       "    </tr>\n",
       "    <tr>\n",
       "      <th>Artashat, Armenia</th>\n",
       "      <td>53.146</td>\n",
       "      <td>0.000</td>\n",
       "      <td>63.157</td>\n",
       "      <td>123.426</td>\n",
       "      <td>83.558</td>\n",
       "      <td>148.327</td>\n",
       "      <td>152.329</td>\n",
       "      <td>268.917</td>\n",
       "      <td>162.115</td>\n",
       "      <td>92.114</td>\n",
       "    </tr>\n",
       "    <tr>\n",
       "      <th>Armavir, Armenia</th>\n",
       "      <td>40.235</td>\n",
       "      <td>60.912</td>\n",
       "      <td>0.000</td>\n",
       "      <td>137.689</td>\n",
       "      <td>97.821</td>\n",
       "      <td>137.800</td>\n",
       "      <td>96.976</td>\n",
       "      <td>329.304</td>\n",
       "      <td>176.378</td>\n",
       "      <td>152.501</td>\n",
       "    </tr>\n",
       "    <tr>\n",
       "      <th>Gavar, Armenia</th>\n",
       "      <td>104.243</td>\n",
       "      <td>124.871</td>\n",
       "      <td>142.004</td>\n",
       "      <td>0.000</td>\n",
       "      <td>49.150</td>\n",
       "      <td>104.889</td>\n",
       "      <td>168.401</td>\n",
       "      <td>273.724</td>\n",
       "      <td>102.884</td>\n",
       "      <td>96.921</td>\n",
       "    </tr>\n",
       "    <tr>\n",
       "      <th>Hrazdan, Armenia</th>\n",
       "      <td>63.401</td>\n",
       "      <td>84.029</td>\n",
       "      <td>101.162</td>\n",
       "      <td>48.809</td>\n",
       "      <td>0.000</td>\n",
       "      <td>89.503</td>\n",
       "      <td>144.375</td>\n",
       "      <td>318.020</td>\n",
       "      <td>87.498</td>\n",
       "      <td>141.217</td>\n",
       "    </tr>\n",
       "    <tr>\n",
       "      <th>Vanadzor, Armenia</th>\n",
       "      <td>98.449</td>\n",
       "      <td>147.164</td>\n",
       "      <td>137.394</td>\n",
       "      <td>105.813</td>\n",
       "      <td>89.123</td>\n",
       "      <td>0.000</td>\n",
       "      <td>63.512</td>\n",
       "      <td>375.024</td>\n",
       "      <td>71.247</td>\n",
       "      <td>198.221</td>\n",
       "    </tr>\n",
       "    <tr>\n",
       "      <th>Gyumri, Armenia</th>\n",
       "      <td>98.304</td>\n",
       "      <td>151.024</td>\n",
       "      <td>96.891</td>\n",
       "      <td>169.591</td>\n",
       "      <td>145.140</td>\n",
       "      <td>63.944</td>\n",
       "      <td>0.000</td>\n",
       "      <td>419.415</td>\n",
       "      <td>135.025</td>\n",
       "      <td>242.613</td>\n",
       "    </tr>\n",
       "    <tr>\n",
       "      <th>Kapan, Armenia</th>\n",
       "      <td>321.949</td>\n",
       "      <td>270.248</td>\n",
       "      <td>331.960</td>\n",
       "      <td>274.365</td>\n",
       "      <td>318.547</td>\n",
       "      <td>374.286</td>\n",
       "      <td>421.132</td>\n",
       "      <td>0.000</td>\n",
       "      <td>372.281</td>\n",
       "      <td>179.361</td>\n",
       "    </tr>\n",
       "    <tr>\n",
       "      <th>Ijevan, Armenia</th>\n",
       "      <td>142.245</td>\n",
       "      <td>162.873</td>\n",
       "      <td>180.006</td>\n",
       "      <td>103.843</td>\n",
       "      <td>87.153</td>\n",
       "      <td>71.118</td>\n",
       "      <td>134.630</td>\n",
       "      <td>373.054</td>\n",
       "      <td>0.000</td>\n",
       "      <td>196.251</td>\n",
       "    </tr>\n",
       "    <tr>\n",
       "      <th>Yeghegnadzor, Armenia</th>\n",
       "      <td>144.877</td>\n",
       "      <td>93.175</td>\n",
       "      <td>154.888</td>\n",
       "      <td>97.293</td>\n",
       "      <td>141.475</td>\n",
       "      <td>197.213</td>\n",
       "      <td>244.060</td>\n",
       "      <td>179.243</td>\n",
       "      <td>195.208</td>\n",
       "      <td>0.000</td>\n",
       "    </tr>\n",
       "  </tbody>\n",
       "</table>\n",
       "</div>"
      ],
      "text/plain": [
       "                       Ashtarak, Armenia  Artashat, Armenia  Armavir, Armenia  \\\n",
       "Ashtarak, Armenia                  0.000             51.874            39.551   \n",
       "Artashat, Armenia                 53.146              0.000            63.157   \n",
       "Armavir, Armenia                  40.235             60.912             0.000   \n",
       "Gavar, Armenia                   104.243            124.871           142.004   \n",
       "Hrazdan, Armenia                  63.401             84.029           101.162   \n",
       "Vanadzor, Armenia                 98.449            147.164           137.394   \n",
       "Gyumri, Armenia                   98.304            151.024            96.891   \n",
       "Kapan, Armenia                   321.949            270.248           331.960   \n",
       "Ijevan, Armenia                  142.245            162.873           180.006   \n",
       "Yeghegnadzor, Armenia            144.877             93.175           154.888   \n",
       "\n",
       "                       Gavar, Armenia  Hrazdan, Armenia  Vanadzor, Armenia  \\\n",
       "Ashtarak, Armenia             104.028            64.161             98.558   \n",
       "Artashat, Armenia             123.426            83.558            148.327   \n",
       "Armavir, Armenia              137.689            97.821            137.800   \n",
       "Gavar, Armenia                  0.000            49.150            104.889   \n",
       "Hrazdan, Armenia               48.809             0.000             89.503   \n",
       "Vanadzor, Armenia             105.813            89.123              0.000   \n",
       "Gyumri, Armenia               169.591           145.140             63.944   \n",
       "Kapan, Armenia                274.365           318.547            374.286   \n",
       "Ijevan, Armenia               103.843            87.153             71.118   \n",
       "Yeghegnadzor, Armenia          97.293           141.475            197.213   \n",
       "\n",
       "                       Gyumri, Armenia  Kapan, Armenia  Ijevan, Armenia  \\\n",
       "Ashtarak, Armenia               98.376         320.266          142.717   \n",
       "Artashat, Armenia              152.329         268.917          162.115   \n",
       "Armavir, Armenia                96.976         329.304          176.378   \n",
       "Gavar, Armenia                 168.401         273.724          102.884   \n",
       "Hrazdan, Armenia               144.375         318.020           87.498   \n",
       "Vanadzor, Armenia               63.512         375.024           71.247   \n",
       "Gyumri, Armenia                  0.000         419.415          135.025   \n",
       "Kapan, Armenia                 421.132           0.000          372.281   \n",
       "Ijevan, Armenia                134.630         373.054            0.000   \n",
       "Yeghegnadzor, Armenia          244.060         179.243          195.208   \n",
       "\n",
       "                       Yeghegnadzor, Armenia  \n",
       "Ashtarak, Armenia                    143.463  \n",
       "Artashat, Armenia                     92.114  \n",
       "Armavir, Armenia                     152.501  \n",
       "Gavar, Armenia                        96.921  \n",
       "Hrazdan, Armenia                     141.217  \n",
       "Vanadzor, Armenia                    198.221  \n",
       "Gyumri, Armenia                      242.613  \n",
       "Kapan, Armenia                       179.361  \n",
       "Ijevan, Armenia                      196.251  \n",
       "Yeghegnadzor, Armenia                  0.000  "
      ]
     },
     "execution_count": 9,
     "metadata": {},
     "output_type": "execute_result"
    }
   ],
   "source": [
    "df"
   ]
  },
  {
   "cell_type": "code",
   "execution_count": null,
   "metadata": {},
   "outputs": [],
   "source": []
  }
 ],
 "metadata": {
  "kernelspec": {
   "display_name": "Python 3",
   "language": "python",
   "name": "python3"
  },
  "language_info": {
   "codemirror_mode": {
    "name": "ipython",
    "version": 3
   },
   "file_extension": ".py",
   "mimetype": "text/x-python",
   "name": "python",
   "nbconvert_exporter": "python",
   "pygments_lexer": "ipython3",
   "version": "3.7.6"
  }
 },
 "nbformat": 4,
 "nbformat_minor": 4
}
