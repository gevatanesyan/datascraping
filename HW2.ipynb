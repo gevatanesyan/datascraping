{
 "cells": [
  {
   "cell_type": "code",
   "execution_count": 1,
   "metadata": {},
   "outputs": [],
   "source": [
    "import time\n",
    "import requests\n",
    "import numpy as np\n",
    "import pandas as pd\n",
    "from scrapy.http import TextResponse\n",
    "import re"
   ]
  },
  {
   "cell_type": "markdown",
   "metadata": {},
   "source": [
    "# Problem 1"
   ]
  },
  {
   "cell_type": "code",
   "execution_count": 2,
   "metadata": {},
   "outputs": [],
   "source": [
    "def send_request(url):\n",
    "    page = requests.get(url)\n",
    "    response = TextResponse(body=page.text,url=url,encoding=\"utf-8\")\n",
    "    return response"
   ]
  },
  {
   "cell_type": "code",
   "execution_count": 3,
   "metadata": {},
   "outputs": [],
   "source": [
    "def scraping_quotes(response):\n",
    "    quotes = response.css(\"div.quote > span.text::text\").extract()\n",
    "    author = response.css(\"small.author::text\").extract()\n",
    "    tags_div =response.css(\"div.tags \")\n",
    "    tags = [i.css(\"a.tag::text\").extract() for i in tags_div]\n",
    "    hyper = response.css(\"small.author ~ a::attr(href)\").extract()\n",
    "    base_link = 'http://quotes.toscrape.com'\n",
    "    hyperlink = [base_link + i for i in hyper]\n",
    "    return pd.DataFrame({\"quotes\":quotes,\"author\":author,\"tags\":tags,\"hyperlink\":hyperlink})\n",
    "    "
   ]
  },
  {
   "cell_type": "code",
   "execution_count": 4,
   "metadata": {},
   "outputs": [],
   "source": [
    "quotes = []\n",
    "url = \"http://quotes.toscrape.com/\" \n",
    "while True:\n",
    "    response = send_request(url)\n",
    "    quotes.append(scraping_quotes(response))\n",
    "    next_page_url = response.css(\"li.next > a::attr(href)\").extract_first()\n",
    "    if next_page_url:\n",
    "        url = response.urljoin(next_page_url)\n",
    "    else:\n",
    "        break"
   ]
  },
  {
   "cell_type": "code",
   "execution_count": 5,
   "metadata": {},
   "outputs": [
    {
     "data": {
      "text/html": [
       "<div>\n",
       "<style scoped>\n",
       "    .dataframe tbody tr th:only-of-type {\n",
       "        vertical-align: middle;\n",
       "    }\n",
       "\n",
       "    .dataframe tbody tr th {\n",
       "        vertical-align: top;\n",
       "    }\n",
       "\n",
       "    .dataframe thead th {\n",
       "        text-align: right;\n",
       "    }\n",
       "</style>\n",
       "<table border=\"1\" class=\"dataframe\">\n",
       "  <thead>\n",
       "    <tr style=\"text-align: right;\">\n",
       "      <th></th>\n",
       "      <th>quotes</th>\n",
       "      <th>author</th>\n",
       "      <th>tags</th>\n",
       "      <th>hyperlink</th>\n",
       "    </tr>\n",
       "  </thead>\n",
       "  <tbody>\n",
       "    <tr>\n",
       "      <th>0</th>\n",
       "      <td>“The world as we have created it is a process ...</td>\n",
       "      <td>Albert Einstein</td>\n",
       "      <td>[change, deep-thoughts, thinking, world]</td>\n",
       "      <td>http://quotes.toscrape.com/author/Albert-Einstein</td>\n",
       "    </tr>\n",
       "    <tr>\n",
       "      <th>1</th>\n",
       "      <td>“It is our choices, Harry, that show what we t...</td>\n",
       "      <td>J.K. Rowling</td>\n",
       "      <td>[abilities, choices]</td>\n",
       "      <td>http://quotes.toscrape.com/author/J-K-Rowling</td>\n",
       "    </tr>\n",
       "    <tr>\n",
       "      <th>2</th>\n",
       "      <td>“There are only two ways to live your life. On...</td>\n",
       "      <td>Albert Einstein</td>\n",
       "      <td>[inspirational, life, live, miracle, miracles]</td>\n",
       "      <td>http://quotes.toscrape.com/author/Albert-Einstein</td>\n",
       "    </tr>\n",
       "    <tr>\n",
       "      <th>3</th>\n",
       "      <td>“The person, be it gentleman or lady, who has ...</td>\n",
       "      <td>Jane Austen</td>\n",
       "      <td>[aliteracy, books, classic, humor]</td>\n",
       "      <td>http://quotes.toscrape.com/author/Jane-Austen</td>\n",
       "    </tr>\n",
       "    <tr>\n",
       "      <th>4</th>\n",
       "      <td>“Imperfection is beauty, madness is genius and...</td>\n",
       "      <td>Marilyn Monroe</td>\n",
       "      <td>[be-yourself, inspirational]</td>\n",
       "      <td>http://quotes.toscrape.com/author/Marilyn-Monroe</td>\n",
       "    </tr>\n",
       "    <tr>\n",
       "      <th>...</th>\n",
       "      <td>...</td>\n",
       "      <td>...</td>\n",
       "      <td>...</td>\n",
       "      <td>...</td>\n",
       "    </tr>\n",
       "    <tr>\n",
       "      <th>5</th>\n",
       "      <td>“You never really understand a person until yo...</td>\n",
       "      <td>Harper Lee</td>\n",
       "      <td>[better-life-empathy]</td>\n",
       "      <td>http://quotes.toscrape.com/author/Harper-Lee</td>\n",
       "    </tr>\n",
       "    <tr>\n",
       "      <th>6</th>\n",
       "      <td>“You have to write the book that wants to be w...</td>\n",
       "      <td>Madeleine L'Engle</td>\n",
       "      <td>[books, children, difficult, grown-ups, write,...</td>\n",
       "      <td>http://quotes.toscrape.com/author/Madeleine-LE...</td>\n",
       "    </tr>\n",
       "    <tr>\n",
       "      <th>7</th>\n",
       "      <td>“Never tell the truth to people who are not wo...</td>\n",
       "      <td>Mark Twain</td>\n",
       "      <td>[truth]</td>\n",
       "      <td>http://quotes.toscrape.com/author/Mark-Twain</td>\n",
       "    </tr>\n",
       "    <tr>\n",
       "      <th>8</th>\n",
       "      <td>“A person's a person, no matter how small.”</td>\n",
       "      <td>Dr. Seuss</td>\n",
       "      <td>[inspirational]</td>\n",
       "      <td>http://quotes.toscrape.com/author/Dr-Seuss</td>\n",
       "    </tr>\n",
       "    <tr>\n",
       "      <th>9</th>\n",
       "      <td>“... a mind needs books as a sword needs a whe...</td>\n",
       "      <td>George R.R. Martin</td>\n",
       "      <td>[books, mind]</td>\n",
       "      <td>http://quotes.toscrape.com/author/George-R-R-M...</td>\n",
       "    </tr>\n",
       "  </tbody>\n",
       "</table>\n",
       "<p>100 rows × 4 columns</p>\n",
       "</div>"
      ],
      "text/plain": [
       "                                               quotes              author  \\\n",
       "0   “The world as we have created it is a process ...     Albert Einstein   \n",
       "1   “It is our choices, Harry, that show what we t...        J.K. Rowling   \n",
       "2   “There are only two ways to live your life. On...     Albert Einstein   \n",
       "3   “The person, be it gentleman or lady, who has ...         Jane Austen   \n",
       "4   “Imperfection is beauty, madness is genius and...      Marilyn Monroe   \n",
       "..                                                ...                 ...   \n",
       "5   “You never really understand a person until yo...          Harper Lee   \n",
       "6   “You have to write the book that wants to be w...   Madeleine L'Engle   \n",
       "7   “Never tell the truth to people who are not wo...          Mark Twain   \n",
       "8         “A person's a person, no matter how small.”           Dr. Seuss   \n",
       "9   “... a mind needs books as a sword needs a whe...  George R.R. Martin   \n",
       "\n",
       "                                                 tags  \\\n",
       "0            [change, deep-thoughts, thinking, world]   \n",
       "1                                [abilities, choices]   \n",
       "2      [inspirational, life, live, miracle, miracles]   \n",
       "3                  [aliteracy, books, classic, humor]   \n",
       "4                        [be-yourself, inspirational]   \n",
       "..                                                ...   \n",
       "5                               [better-life-empathy]   \n",
       "6   [books, children, difficult, grown-ups, write,...   \n",
       "7                                             [truth]   \n",
       "8                                     [inspirational]   \n",
       "9                                       [books, mind]   \n",
       "\n",
       "                                            hyperlink  \n",
       "0   http://quotes.toscrape.com/author/Albert-Einstein  \n",
       "1       http://quotes.toscrape.com/author/J-K-Rowling  \n",
       "2   http://quotes.toscrape.com/author/Albert-Einstein  \n",
       "3       http://quotes.toscrape.com/author/Jane-Austen  \n",
       "4    http://quotes.toscrape.com/author/Marilyn-Monroe  \n",
       "..                                                ...  \n",
       "5        http://quotes.toscrape.com/author/Harper-Lee  \n",
       "6   http://quotes.toscrape.com/author/Madeleine-LE...  \n",
       "7        http://quotes.toscrape.com/author/Mark-Twain  \n",
       "8          http://quotes.toscrape.com/author/Dr-Seuss  \n",
       "9   http://quotes.toscrape.com/author/George-R-R-M...  \n",
       "\n",
       "[100 rows x 4 columns]"
      ]
     },
     "execution_count": 5,
     "metadata": {},
     "output_type": "execute_result"
    }
   ],
   "source": [
    "quote = pd.concat(quotes)\n",
    "quote"
   ]
  },
  {
   "cell_type": "markdown",
   "metadata": {},
   "source": [
    "# Problem 2\n"
   ]
  },
  {
   "cell_type": "code",
   "execution_count": 6,
   "metadata": {},
   "outputs": [],
   "source": [
    "def scraping_books(url,base_url=\"http://books.toscrape.com/\"):\n",
    "    page = requests.get(url)\n",
    "    response = TextResponse(body=page.text,url=url,encoding=\"utf-8\")\n",
    "    title = response.css(\"h3 > a::attr(title)\").extract()\n",
    "    price1 = response.css(\"p.price_color::text\").extract()\n",
    "    price = [i.replace(\"Â\", \"\") for i in price1]\n",
    "    burl = response.css(\"h3 >a::attr(href)\").extract()\n",
    "    purl = response.css(\"img::attr(src)\").extract()\n",
    "    star = response.css(\"p[class^='star-rating']::attr(class)\").extract()\n",
    "    star_rating = []\n",
    "    for i in star:\n",
    "        star_rating.append(i.replace(\"star-rating\", \"\"))\n",
    "    stock  =response.css(\"p.price_color ~ p[class^='instock']::attr(class)\").extract()\n",
    "    instock = [i.replace(\"availability\", \" \") for i in stock]    \n",
    "    base_url = \"http://books.toscrape.com/catalogue/\"\n",
    "    bookurl = [base_url + i for i in burl]\n",
    "    picurl = [base_url + i for i in purl]\n",
    "    return pd.DataFrame({\"title\":title,  \"price\":price, \"bookurl\":bookurl, \"picurl\":picurl,\"star_rating\":star_rating,\"instock\":instock})"
   ]
  },
  {
   "cell_type": "code",
   "execution_count": null,
   "metadata": {},
   "outputs": [],
   "source": [
    "books = []\n",
    "for i in range(1,1000):\n",
    "    cureent_page =scraping_books(url = f\"http://books.toscrape.com/catalogue/page-{i}.html\")\n",
    "    if cureent_page.shape[0] == 0:\n",
    "        break\n",
    "    else:\n",
    "        books.append(cureent_page)"
   ]
  },
  {
   "cell_type": "code",
   "execution_count": null,
   "metadata": {
    "scrolled": true
   },
   "outputs": [],
   "source": [
    "data = pd.concat(books)\n",
    "data"
   ]
  },
  {
   "cell_type": "markdown",
   "metadata": {},
   "source": [
    "# Problem 3"
   ]
  },
  {
   "cell_type": "code",
   "execution_count": null,
   "metadata": {},
   "outputs": [],
   "source": [
    "def imdb_scrap(url,base_url=\"https://www.imdb.com/chart/moviemeter/\"):\n",
    "    page = requests.get(url)\n",
    "    response = TextResponse(body=page.text,url=url,encoding=\"utf-8\")\n",
    "    title = response.css(\"td.titleColumn >a ::text\").extract()\n",
    "    year_brack = response.css(\"td >span.secondaryInfo::text\").extract()\n",
    "    year = [i.replace(\"(\" , \"\").replace(\")\" , \"\") for i in year_brack]\n",
    "    ratings_td = response.css(\"td.ratingColumn.imdbRating\")\n",
    "    rating = [i.css('strong::text').extract_first() for i in ratings_td]\n",
    "    murl = response.css(\"td.titleColumn ::attr(href)\").extract()\n",
    "    hyper = 'https://www.imdb.com/'\n",
    "    movie_hyperlink = [hyper+i for i in murl]\n",
    "    rank_div = response.css(\"div.velocity\")\n",
    "    rank_ext = [i.css(\"::text\").extract_first() for i in rank_div]\n",
    "    rank = [i.replace('\\n',\"\").replace(\"(no change)\",\"\") for i in rank_ext]  \n",
    "    return pd.DataFrame({\"title\":title,  \"year\":year, \"rating\":rating, \"movie_hyperlink\": movie_hyperlink , 'rank':rank,})"
   ]
  },
  {
   "cell_type": "code",
   "execution_count": null,
   "metadata": {},
   "outputs": [],
   "source": [
    "imdb_scrap(url = \"https://www.imdb.com/chart/moviemeter/\")"
   ]
  }
 ],
 "metadata": {
  "kernelspec": {
   "display_name": "Python 3",
   "language": "python",
   "name": "python3"
  },
  "language_info": {
   "codemirror_mode": {
    "name": "ipython",
    "version": 3
   },
   "file_extension": ".py",
   "mimetype": "text/x-python",
   "name": "python",
   "nbconvert_exporter": "python",
   "pygments_lexer": "ipython3",
   "version": "3.7.6"
  }
 },
 "nbformat": 4,
 "nbformat_minor": 4
}
